{
  "nbformat": 4,
  "nbformat_minor": 0,
  "metadata": {
    "colab": {
      "name": "Copy of RegressionRunTime1.ipynb",
      "provenance": [],
      "authorship_tag": "ABX9TyOMF5W7HzJX6GJ34mB3kxCv",
      "include_colab_link": true
    },
    "kernelspec": {
      "name": "python3",
      "display_name": "Python 3"
    }
  },
  "cells": [
    {
      "cell_type": "markdown",
      "metadata": {
        "id": "view-in-github",
        "colab_type": "text"
      },
      "source": [
        "<a href=\"https://colab.research.google.com/github/tungpro2k/CS114.K21/blob/master/Copy_of_RegressionRunTime1.ipynb\" target=\"_parent\"><img src=\"https://colab.research.google.com/assets/colab-badge.svg\" alt=\"Open In Colab\"/></a>"
      ]
    },
    {
      "cell_type": "code",
      "metadata": {
        "id": "muAYI_9TsH0S",
        "colab_type": "code",
        "colab": {}
      },
      "source": [
        "import pandas as pd\n",
        "import matplotlib.pyplot as plt\n",
        "\n",
        "from sklearn.linear_model import LinearRegression\n",
        "from sklearn.model_selection import train_test_split\n"
      ],
      "execution_count": 0,
      "outputs": []
    },
    {
      "cell_type": "code",
      "metadata": {
        "id": "Iy2By80GsXTm",
        "colab_type": "code",
        "outputId": "17cd3997-33ea-4a8c-cbf5-b6eeda8f3df2",
        "colab": {
          "base_uri": "https://localhost:8080/",
          "height": 138
        }
      },
      "source": [
        "from google.colab import drive\n",
        "drive.mount('/gdrive')\n",
        "%cd /gdrive"
      ],
      "execution_count": 2,
      "outputs": [
        {
          "output_type": "stream",
          "text": [
            "Go to this URL in a browser: https://accounts.google.com/o/oauth2/auth?client_id=947318989803-6bn6qk8qdgf4n4g3pfee6491hc0brc4i.apps.googleusercontent.com&redirect_uri=urn%3aietf%3awg%3aoauth%3a2.0%3aoob&response_type=code&scope=email%20https%3a%2f%2fwww.googleapis.com%2fauth%2fdocs.test%20https%3a%2f%2fwww.googleapis.com%2fauth%2fdrive%20https%3a%2f%2fwww.googleapis.com%2fauth%2fdrive.photos.readonly%20https%3a%2f%2fwww.googleapis.com%2fauth%2fpeopleapi.readonly\n",
            "\n",
            "Enter your authorization code:\n",
            "··········\n",
            "Mounted at /gdrive\n",
            "/gdrive\n"
          ],
          "name": "stdout"
        }
      ]
    },
    {
      "cell_type": "code",
      "metadata": {
        "id": "Rbw5kXBssscn",
        "colab_type": "code",
        "outputId": "39c5c793-e64c-4b96-f46b-b79cab6b2f51",
        "colab": {
          "base_uri": "https://localhost:8080/",
          "height": 252
        }
      },
      "source": [
        "file = r'/gdrive/My Drive/Colab Notebooks/MLdata/data2.txt'\n",
        "df = pd.read_csv(file)\n",
        "\n",
        "print(df)"
      ],
      "execution_count": 3,
      "outputs": [
        {
          "output_type": "stream",
          "text": [
            "            Kb         s\n",
            "0      6083695  0.521842\n",
            "1      1954367  0.152648\n",
            "2      3734185  0.298548\n",
            "3      5839301   0.46048\n",
            "4      6343427  0.527977\n",
            "...        ...       ...\n",
            "71111  4472112  0.350379\n",
            "71112  5471895  0.429955\n",
            "71113  9837364  0.801394\n",
            "71114  9466593  0.776407\n",
            "71115  4080801  0.314468\n",
            "\n",
            "[71116 rows x 2 columns]\n"
          ],
          "name": "stdout"
        }
      ]
    },
    {
      "cell_type": "code",
      "metadata": {
        "id": "v99pREGqs1hq",
        "colab_type": "code",
        "outputId": "0e1678c4-35d8-4226-ae33-fb6010b2f7f8",
        "colab": {
          "base_uri": "https://localhost:8080/",
          "height": 34
        }
      },
      "source": [
        "print('Defining x & y variable')\n",
        "x = df['Kb']\n",
        "y = df['s']"
      ],
      "execution_count": 4,
      "outputs": [
        {
          "output_type": "stream",
          "text": [
            "Defining x & y variable\n"
          ],
          "name": "stdout"
        }
      ]
    },
    {
      "cell_type": "code",
      "metadata": {
        "id": "dlt4MXNFtVwT",
        "colab_type": "code",
        "outputId": "e7068039-f9a8-442d-8cfc-690fbd91648d",
        "colab": {
          "base_uri": "https://localhost:8080/",
          "height": 34
        }
      },
      "source": [
        "plt.scatter(x,y, color='blue')"
      ],
      "execution_count": 0,
      "outputs": [
        {
          "output_type": "execute_result",
          "data": {
            "text/plain": [
              "<matplotlib.collections.PathCollection at 0x7f7a2b7b9ef0>"
            ]
          },
          "metadata": {
            "tags": []
          },
          "execution_count": 16
        }
      ]
    },
    {
      "cell_type": "code",
      "metadata": {
        "id": "LaoiETZatihi",
        "colab_type": "code",
        "outputId": "ced6216d-9f2c-47f0-cc83-c214d720b519",
        "colab": {
          "base_uri": "https://localhost:8080/",
          "height": 34
        }
      },
      "source": [
        "print('Splitting the data into Train and Test')\n",
        "x_train, x_test, y_train, y_test = train_test_split(x,y,random_state=0)"
      ],
      "execution_count": 6,
      "outputs": [
        {
          "output_type": "stream",
          "text": [
            "Splitting the data into Train and Test\n"
          ],
          "name": "stdout"
        }
      ]
    },
    {
      "cell_type": "code",
      "metadata": {
        "id": "CAA2UqadtkVL",
        "colab_type": "code",
        "outputId": "09f096ff-b63d-430a-f627-1c07df98604a",
        "colab": {
          "base_uri": "https://localhost:8080/",
          "height": 34
        }
      },
      "source": [
        "plt.scatter(x_train,y_train, color='blue')"
      ],
      "execution_count": 0,
      "outputs": [
        {
          "output_type": "execute_result",
          "data": {
            "text/plain": [
              "<matplotlib.collections.PathCollection at 0x7f78e69dc3c8>"
            ]
          },
          "metadata": {
            "tags": []
          },
          "execution_count": 7
        }
      ]
    },
    {
      "cell_type": "code",
      "metadata": {
        "id": "0TBFn3wBtv_V",
        "colab_type": "code",
        "outputId": "565b0250-6fe4-49c5-8c1e-adf513c50f39",
        "colab": {
          "base_uri": "https://localhost:8080/",
          "height": 295
        }
      },
      "source": [
        "plt.scatter(x_test,y_test, color='blue')"
      ],
      "execution_count": 0,
      "outputs": [
        {
          "output_type": "execute_result",
          "data": {
            "text/plain": [
              "<matplotlib.collections.PathCollection at 0x7f2eb85c85f8>"
            ]
          },
          "metadata": {
            "tags": []
          },
          "execution_count": 12
        },
        {
          "output_type": "display_data",
          "data": {
            "image/png": "[encoded data removed]",
            "text/plain": [
              "<Figure size 432x288 with 1 Axes>"
            ]
          },
          "metadata": {
            "tags": [],
            "needs_background": "light"
          }
        }
      ]
    },
    {
      "cell_type": "code",
      "metadata": {
        "id": "iWLjuXfct3zV",
        "colab_type": "code",
        "outputId": "cd7327d9-33b5-4ef1-94a9-280aea3606db",
        "colab": {
          "base_uri": "https://localhost:8080/",
          "height": 50
        }
      },
      "source": [
        "print('Training the model using x_train, y_train')\n",
        "lr = LinearRegression()\n",
        "\n",
        "#print(X_train)\n",
        "#print(X_train.values.reshape(-1,1))\n",
        "lr.fit(x_train.values.reshape(-1,1),y_train)"
      ],
      "execution_count": 0,
      "outputs": [
        {
          "output_type": "stream",
          "text": [
            "Training the model using X_train, y_train\n"
          ],
          "name": "stdout"
        },
        {
          "output_type": "execute_result",
          "data": {
            "text/plain": [
              "LinearRegression(copy_X=True, fit_intercept=True, n_jobs=None, normalize=False)"
            ]
          },
          "metadata": {
            "tags": []
          },
          "execution_count": 13
        }
      ]
    },
    {
      "cell_type": "code",
      "metadata": {
        "id": "AXIjSOsUt50-",
        "colab_type": "code",
        "outputId": "dcf4cd38-f0c5-44f6-d735-d351b7aec227",
        "colab": {
          "base_uri": "https://localhost:8080/",
          "height": 34
        }
      },
      "source": [
        "print('Predicting using the trained model - x_test')\n",
        "y_pred=lr.predict(x_test.values.reshape(-1,1))"
      ],
      "execution_count": 0,
      "outputs": [
        {
          "output_type": "stream",
          "text": [
            "Predicting using the trained model - X_test\n"
          ],
          "name": "stdout"
        }
      ]
    },
    {
      "cell_type": "code",
      "metadata": {
        "id": "s5cDoJgduAFi",
        "colab_type": "code",
        "outputId": "3b763651-98d3-4223-a547-46187622e684",
        "colab": {
          "base_uri": "https://localhost:8080/",
          "height": 235
        }
      },
      "source": [
        "print(y_test) #Test data - actual data\n",
        "print(y_pred) #Model predicted dataset"
      ],
      "execution_count": 0,
      "outputs": [
        {
          "output_type": "stream",
          "text": [
            "1398    0.235252\n",
            "4773    2.327880\n",
            "2243    0.803234\n",
            "1139    2.189050\n",
            "1203    0.120225\n",
            "          ...   \n",
            "5103    1.123750\n",
            "1274    0.609511\n",
            "1250    1.059850\n",
            "3270    2.122260\n",
            "3079    2.566570\n",
            "Name: s, Length: 1303, dtype: float64\n",
            "[0.22620936 2.28530709 0.80775917 ... 1.09112106 2.12843187 2.51740457]\n"
          ],
          "name": "stdout"
        }
      ]
    },
    {
      "cell_type": "code",
      "metadata": {
        "id": "SkS-OHHduH_Y",
        "colab_type": "code",
        "outputId": "8fd737e8-b907-4a11-f00f-70571c6f2ba4",
        "colab": {
          "base_uri": "https://localhost:8080/",
          "height": 278
        }
      },
      "source": [
        "plt.scatter(x_train,y_train, color='blue')\n",
        "plt.scatter(x_test,y_pred,color='red')\n",
        "\n",
        "plt.xticks()\n",
        "plt.yticks()\n",
        "plt.show()"
      ],
      "execution_count": 0,
      "outputs": [
        {
          "output_type": "display_data",
          "data": {
            "image/png": "[encoded data removed]",
            "text/plain": [
              "<Figure size 432x288 with 1 Axes>"
            ]
          },
          "metadata": {
            "tags": [],
            "needs_background": "light"
          }
        }
      ]
    },
    {
      "cell_type": "code",
      "metadata": {
        "id": "WKOsotB2uZCJ",
        "colab_type": "code",
        "outputId": "38246ee9-232c-41eb-fab5-fc3f194d3386",
        "colab": {
          "base_uri": "https://localhost:8080/",
          "height": 84
        }
      },
      "source": [
        "print('Finding intercept & coeff')\n",
        "print('Intercept', lr.intercept_)\n",
        "print('Coefficient', lr.coef_)\n",
        "print(lr.coef_,'x +',lr.intercept_)"
      ],
      "execution_count": 0,
      "outputs": [
        {
          "output_type": "stream",
          "text": [
            "Finding intercept & coeff\n",
            "Intercept -0.05466102301130382\n",
            "Coefficient [2.84029072e-07]\n",
            "[2.84029072e-07] x + -0.05466102301130382\n"
          ],
          "name": "stdout"
        }
      ]
    },
    {
      "cell_type": "code",
      "metadata": {
        "id": "qfP0jXd8uiYj",
        "colab_type": "code",
        "outputId": "f0ec5b52-8e39-4153-dbc8-de2b54501224",
        "colab": {
          "base_uri": "https://localhost:8080/",
          "height": 67
        }
      },
      "source": [
        "from sklearn.metrics import mean_squared_error, r2_score\n",
        "# model evaluation\n",
        "rmse = mean_squared_error(y_test, y_pred)\n",
        "r2 = r2_score(y_test, y_pred)\n",
        "\n",
        "print('Finding RMSE & R2 Score')\n",
        "print('Root Mean Square Error', rmse)\n",
        "print('R2 Score', r2)\n"
      ],
      "execution_count": 0,
      "outputs": [
        {
          "output_type": "stream",
          "text": [
            "Finding RMSE & R2 Score\n",
            "Root Mean Square Error 0.002089935327379474\n",
            "R2 Score 0.9969940892861041\n"
          ],
          "name": "stdout"
        }
      ]
    }
  ]
}