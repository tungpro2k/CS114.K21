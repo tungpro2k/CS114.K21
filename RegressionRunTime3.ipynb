{
  "nbformat": 4,
  "nbformat_minor": 0,
  "metadata": {
    "colab": {
      "name": "RegressionRunTime3.ipynb",
      "provenance": [],
      "authorship_tag": "ABX9TyM+NMh0j0oBSKfr2Pjngloq",
      "include_colab_link": true
    },
    "kernelspec": {
      "name": "python3",
      "display_name": "Python 3"
    }
  },
  "cells": [
    {
      "cell_type": "markdown",
      "metadata": {
        "id": "view-in-github",
        "colab_type": "text"
      },
      "source": [
        "<a href=\"https://colab.research.google.com/github/tungpro2k/CS114.K21/blob/master/RegressionRunTime3.ipynb\" target=\"_parent\"><img src=\"https://colab.research.google.com/assets/colab-badge.svg\" alt=\"Open In Colab\"/></a>"
      ]
    },
    {
      "cell_type": "code",
      "metadata": {
        "id": "muAYI_9TsH0S",
        "colab_type": "code",
        "colab": {}
      },
      "source": [
        "import pandas as pd\n",
        "import matplotlib.pyplot as plt\n",
        "\n",
        "from sklearn.linear_model import LinearRegression\n",
        "from sklearn.model_selection import train_test_split\n"
      ],
      "execution_count": 0,
      "outputs": []
    },
    {
      "cell_type": "code",
      "metadata": {
        "id": "Iy2By80GsXTm",
        "colab_type": "code",
        "outputId": "357b91fa-a095-45c2-abca-ae2fa07ae85a",
        "colab": {
          "base_uri": "https://localhost:8080/",
          "height": 138
        }
      },
      "source": [
        "from google.colab import drive\n",
        "drive.mount('/gdrive')\n",
        "%cd /gdrive"
      ],
      "execution_count": 2,
      "outputs": [
        {
          "output_type": "stream",
          "text": [
            "Go to this URL in a browser: https://accounts.google.com/o/oauth2/auth?client_id=947318989803-6bn6qk8qdgf4n4g3pfee6491hc0brc4i.apps.googleusercontent.com&redirect_uri=urn%3aietf%3awg%3aoauth%3a2.0%3aoob&response_type=code&scope=email%20https%3a%2f%2fwww.googleapis.com%2fauth%2fdocs.test%20https%3a%2f%2fwww.googleapis.com%2fauth%2fdrive%20https%3a%2f%2fwww.googleapis.com%2fauth%2fdrive.photos.readonly%20https%3a%2f%2fwww.googleapis.com%2fauth%2fpeopleapi.readonly\n",
            "\n",
            "Enter your authorization code:\n",
            "··········\n",
            "Mounted at /gdrive\n",
            "/gdrive\n"
          ],
          "name": "stdout"
        }
      ]
    },
    {
      "cell_type": "code",
      "metadata": {
        "id": "Rbw5kXBssscn",
        "colab_type": "code",
        "outputId": "5ede39d3-eedf-4f40-9ad2-fa473c4071a6",
        "colab": {
          "base_uri": "https://localhost:8080/",
          "height": 252
        }
      },
      "source": [
        "file = r'/gdrive/My Drive/Colab Notebooks/MLdata/data3.txt'\n",
        "df = pd.read_csv(file)\n",
        "\n",
        "print(df)"
      ],
      "execution_count": 3,
      "outputs": [
        {
          "output_type": "stream",
          "text": [
            "             kb        s\n",
            "0      37837612  4.12166\n",
            "1      37395246  3.92089\n",
            "2      36610827  3.21540\n",
            "3      29555651  2.54506\n",
            "4      25928216  2.21831\n",
            "...         ...      ...\n",
            "10585  26872494  2.35117\n",
            "10586  20753811  1.79155\n",
            "10587  33520323  2.90918\n",
            "10588  21243264  1.80292\n",
            "10589  21380484  1.82795\n",
            "\n",
            "[10590 rows x 2 columns]\n"
          ],
          "name": "stdout"
        }
      ]
    },
    {
      "cell_type": "code",
      "metadata": {
        "id": "v99pREGqs1hq",
        "colab_type": "code",
        "outputId": "42660925-85dd-404e-c6b5-2e68c51c647a",
        "colab": {
          "base_uri": "https://localhost:8080/",
          "height": 34
        }
      },
      "source": [
        "print('Defining x & y variable')\n",
        "x = df['kb']\n",
        "y = df['s']"
      ],
      "execution_count": 5,
      "outputs": [
        {
          "output_type": "stream",
          "text": [
            "Defining x & y variable\n"
          ],
          "name": "stdout"
        }
      ]
    },
    {
      "cell_type": "code",
      "metadata": {
        "id": "dlt4MXNFtVwT",
        "colab_type": "code",
        "outputId": "aed2c0c2-6d02-46c5-a03f-4d42868f348f",
        "colab": {
          "base_uri": "https://localhost:8080/",
          "height": 295
        }
      },
      "source": [
        "plt.scatter(x,y, color='blue')"
      ],
      "execution_count": 10,
      "outputs": [
        {
          "output_type": "execute_result",
          "data": {
            "text/plain": [
              "<matplotlib.collections.PathCollection at 0x7f6f6f698668>"
            ]
          },
          "metadata": {
            "tags": []
          },
          "execution_count": 10
        },
        {
          "output_type": "display_data",
          "data": {
            "image/png": "[encoded data removed]",
            "text/plain": [
              "<Figure size 432x288 with 1 Axes>"
            ]
          },
          "metadata": {
            "tags": [],
            "needs_background": "light"
          }
        }
      ]
    },
    {
      "cell_type": "code",
      "metadata": {
        "id": "LaoiETZatihi",
        "colab_type": "code",
        "outputId": "c0988643-560e-487e-a34b-0a89494569da",
        "colab": {
          "base_uri": "https://localhost:8080/",
          "height": 34
        }
      },
      "source": [
        "print('Splitting the data into Train and Test')\n",
        "x_train, x_test, y_train, y_test = train_test_split(x,y,random_state=0)"
      ],
      "execution_count": 6,
      "outputs": [
        {
          "output_type": "stream",
          "text": [
            "Splitting the data into Train and Test\n"
          ],
          "name": "stdout"
        }
      ]
    },
    {
      "cell_type": "code",
      "metadata": {
        "id": "CAA2UqadtkVL",
        "colab_type": "code",
        "outputId": "11caf70a-e37b-4b75-fabd-b79547dc3408",
        "colab": {
          "base_uri": "https://localhost:8080/",
          "height": 295
        }
      },
      "source": [
        "plt.scatter(x_train,y_train, color='blue')"
      ],
      "execution_count": 7,
      "outputs": [
        {
          "output_type": "execute_result",
          "data": {
            "text/plain": [
              "<matplotlib.collections.PathCollection at 0x7f6f72442940>"
            ]
          },
          "metadata": {
            "tags": []
          },
          "execution_count": 7
        },
        {
          "output_type": "display_data",
          "data": {
            "image/png": "[encoded data removed]",
            "text/plain": [
              "<Figure size 432x288 with 1 Axes>"
            ]
          },
          "metadata": {
            "tags": [],
            "needs_background": "light"
          }
        }
      ]
    },
    {
      "cell_type": "code",
      "metadata": {
        "id": "0TBFn3wBtv_V",
        "colab_type": "code",
        "outputId": "402135ad-0eb3-4a25-91ae-bce4b1e4cf7b",
        "colab": {
          "base_uri": "https://localhost:8080/",
          "height": 295
        }
      },
      "source": [
        "plt.scatter(x_test,y_test, color='blue')"
      ],
      "execution_count": 8,
      "outputs": [
        {
          "output_type": "execute_result",
          "data": {
            "text/plain": [
              "<matplotlib.collections.PathCollection at 0x7f6f6f72d208>"
            ]
          },
          "metadata": {
            "tags": []
          },
          "execution_count": 8
        },
        {
          "output_type": "display_data",
          "data": {
            "image/png": "[encoded data removed]",
            "text/plain": [
              "<Figure size 432x288 with 1 Axes>"
            ]
          },
          "metadata": {
            "tags": [],
            "needs_background": "light"
          }
        }
      ]
    },
    {
      "cell_type": "code",
      "metadata": {
        "id": "iWLjuXfct3zV",
        "colab_type": "code",
        "outputId": "2d57d74d-1adb-40c7-f8f9-e9e44f344472",
        "colab": {
          "base_uri": "https://localhost:8080/",
          "height": 50
        }
      },
      "source": [
        "print('Training the model using x_train, y_train')\n",
        "lr = LinearRegression()\n",
        "\n",
        "#print(X_train)\n",
        "#print(X_train.values.reshape(-1,1))\n",
        "lr.fit(x_train.values.reshape(-1,1),y_train)"
      ],
      "execution_count": 9,
      "outputs": [
        {
          "output_type": "stream",
          "text": [
            "Training the model using x_train, y_train\n"
          ],
          "name": "stdout"
        },
        {
          "output_type": "execute_result",
          "data": {
            "text/plain": [
              "LinearRegression(copy_X=True, fit_intercept=True, n_jobs=None, normalize=False)"
            ]
          },
          "metadata": {
            "tags": []
          },
          "execution_count": 9
        }
      ]
    },
    {
      "cell_type": "code",
      "metadata": {
        "id": "AXIjSOsUt50-",
        "colab_type": "code",
        "outputId": "548331eb-8d6c-49be-8c4d-027a74982650",
        "colab": {
          "base_uri": "https://localhost:8080/",
          "height": 34
        }
      },
      "source": [
        "print('Predicting using the trained model - x_test')\n",
        "y_pred=lr.predict(x_test.values.reshape(-1,1))"
      ],
      "execution_count": 11,
      "outputs": [
        {
          "output_type": "stream",
          "text": [
            "Predicting using the trained model - x_test\n"
          ],
          "name": "stdout"
        }
      ]
    },
    {
      "cell_type": "code",
      "metadata": {
        "id": "s5cDoJgduAFi",
        "colab_type": "code",
        "outputId": "f7ec20e4-f303-4d76-ed01-95aae6c2cbe5",
        "colab": {
          "base_uri": "https://localhost:8080/",
          "height": 235
        }
      },
      "source": [
        "print(y_test) #Test data - actual data\n",
        "print(y_pred) #Model predicted dataset"
      ],
      "execution_count": 12,
      "outputs": [
        {
          "output_type": "stream",
          "text": [
            "7546    3.39236\n",
            "6353    2.34066\n",
            "5980    3.32524\n",
            "3523    2.60379\n",
            "1611    2.99153\n",
            "         ...   \n",
            "9934    3.48176\n",
            "3402    2.85100\n",
            "4309    2.08486\n",
            "5048    2.89643\n",
            "4424    1.74192\n",
            "Name: s, Length: 2648, dtype: float64\n",
            "[3.48070982 2.34379592 3.27090495 ... 2.1292791  2.9303795  1.7574362 ]\n"
          ],
          "name": "stdout"
        }
      ]
    },
    {
      "cell_type": "code",
      "metadata": {
        "id": "SkS-OHHduH_Y",
        "colab_type": "code",
        "outputId": "bc6a6daf-4273-4c81-9003-1fc0f6f81aa1",
        "colab": {
          "base_uri": "https://localhost:8080/",
          "height": 278
        }
      },
      "source": [
        "plt.scatter(x_train,y_train, color='blue')\n",
        "plt.scatter(x_test,y_pred,color='red')\n",
        "\n",
        "plt.xticks()\n",
        "plt.yticks()\n",
        "plt.show()"
      ],
      "execution_count": 13,
      "outputs": [
        {
          "output_type": "display_data",
          "data": {
            "image/png": "[encoded data removed]",
            "text/plain": [
              "<Figure size 432x288 with 1 Axes>"
            ]
          },
          "metadata": {
            "tags": [],
            "needs_background": "light"
          }
        }
      ]
    },
    {
      "cell_type": "code",
      "metadata": {
        "id": "WKOsotB2uZCJ",
        "colab_type": "code",
        "outputId": "2dca8e60-24f8-43ae-a2e5-3bab1fb723ba",
        "colab": {
          "base_uri": "https://localhost:8080/",
          "height": 84
        }
      },
      "source": [
        "print('Finding intercept & coeff')\n",
        "print('Intercept', lr.intercept_)\n",
        "print('Coefficient', lr.coef_)\n",
        "print(lr.coef_,'x +',lr.intercept_)"
      ],
      "execution_count": 14,
      "outputs": [
        {
          "output_type": "stream",
          "text": [
            "Finding intercept & coeff\n",
            "Intercept -0.13835667070450386\n",
            "Coefficient [9.27311918e-08]\n",
            "[9.27311918e-08] x + -0.13835667070450386\n"
          ],
          "name": "stdout"
        }
      ]
    },
    {
      "cell_type": "code",
      "metadata": {
        "id": "qfP0jXd8uiYj",
        "colab_type": "code",
        "outputId": "1c3f6986-50b9-4a50-bc8d-0cb22c991293",
        "colab": {
          "base_uri": "https://localhost:8080/",
          "height": 67
        }
      },
      "source": [
        "from sklearn.metrics import mean_squared_error, r2_score\n",
        "# model evaluation\n",
        "rmse = mean_squared_error(y_test, y_pred)\n",
        "r2 = r2_score(y_test, y_pred)\n",
        "\n",
        "print('Finding RMSE & R2 Score')\n",
        "print('Root Mean Square Error', rmse)\n",
        "print('R2 Score', r2)\n"
      ],
      "execution_count": 15,
      "outputs": [
        {
          "output_type": "stream",
          "text": [
            "Finding RMSE & R2 Score\n",
            "Root Mean Square Error 0.002888404848782282\n",
            "R2 Score 0.9899951771922725\n"
          ],
          "name": "stdout"
        }
      ]
    }
  ]
}