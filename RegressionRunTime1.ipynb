{
  "nbformat": 4,
  "nbformat_minor": 0,
  "metadata": {
    "colab": {
      "name": "RegressionRunTime1.ipynb",
      "provenance": [],
      "authorship_tag": "ABX9TyNO0KzeVG3mwDmZ/axxjJT2",
      "include_colab_link": true
    },
    "kernelspec": {
      "name": "python3",
      "display_name": "Python 3"
    }
  },
  "cells": [
    {
      "cell_type": "markdown",
      "metadata": {
        "id": "view-in-github",
        "colab_type": "text"
      },
      "source": [
        "<a href=\"https://colab.research.google.com/github/tungpro2k/CS114.K21/blob/master/RegressionRunTime1.ipynb\" target=\"_parent\"><img src=\"https://colab.research.google.com/assets/colab-badge.svg\" alt=\"Open In Colab\"/></a>"
      ]
    },
    {
      "cell_type": "code",
      "metadata": {
        "id": "muAYI_9TsH0S",
        "colab_type": "code",
        "colab": {}
      },
      "source": [
        "import pandas as pd\n",
        "import matplotlib.pyplot as plt\n",
        "\n",
        "from sklearn.linear_model import LinearRegression\n",
        "from sklearn.model_selection import train_test_split\n"
      ],
      "execution_count": 0,
      "outputs": []
    },
    {
      "cell_type": "code",
      "metadata": {
        "id": "Iy2By80GsXTm",
        "colab_type": "code",
        "outputId": "204fe48b-8af6-4062-c1f3-ce278d19fa44",
        "colab": {
          "base_uri": "https://localhost:8080/",
          "height": 50
        }
      },
      "source": [
        "from google.colab import drive\n",
        "drive.mount('/gdrive')\n",
        "%cd /gdrive"
      ],
      "execution_count": 0,
      "outputs": [
        {
          "output_type": "stream",
          "text": [
            "Drive already mounted at /gdrive; to attempt to forcibly remount, call drive.mount(\"/gdrive\", force_remount=True).\n",
            "/gdrive\n"
          ],
          "name": "stdout"
        }
      ]
    },
    {
      "cell_type": "code",
      "metadata": {
        "id": "Rbw5kXBssscn",
        "colab_type": "code",
        "outputId": "237b857b-1875-4003-c652-771bdd6a4e11",
        "colab": {
          "base_uri": "https://localhost:8080/",
          "height": 252
        }
      },
      "source": [
        "file = r'/gdrive/My Drive/Colab Notebooks/MLdata/data.txt'\n",
        "df = pd.read_csv(file)\n",
        "\n",
        "print(df)"
      ],
      "execution_count": 0,
      "outputs": [
        {
          "output_type": "stream",
          "text": [
            "           Kb         s\n",
            "0     4032139  1.200580\n",
            "1     2055486  0.509774\n",
            "2     5626651  1.476080\n",
            "3       42065  0.007651\n",
            "4     6297788  1.661560\n",
            "...       ...       ...\n",
            "5206  6600098  1.804520\n",
            "5207  5339132  1.450310\n",
            "5208  4794647  1.293070\n",
            "5209  4440131  1.196530\n",
            "5210  2033708  0.517288\n",
            "\n",
            "[5211 rows x 2 columns]\n"
          ],
          "name": "stdout"
        }
      ]
    },
    {
      "cell_type": "code",
      "metadata": {
        "id": "v99pREGqs1hq",
        "colab_type": "code",
        "outputId": "1313d954-99da-41b4-fd80-2af496108856",
        "colab": {
          "base_uri": "https://localhost:8080/",
          "height": 34
        }
      },
      "source": [
        "print('Defining x & y variable')\n",
        "x = df['Kb']\n",
        "y = df['s']"
      ],
      "execution_count": 0,
      "outputs": [
        {
          "output_type": "stream",
          "text": [
            "Defining x & y variable\n"
          ],
          "name": "stdout"
        }
      ]
    },
    {
      "cell_type": "code",
      "metadata": {
        "id": "dlt4MXNFtVwT",
        "colab_type": "code",
        "outputId": "58cb443b-c6f6-4a99-8c34-127a69f48fb5",
        "colab": {
          "base_uri": "https://localhost:8080/",
          "height": 295
        }
      },
      "source": [
        "plt.scatter(x,y, color='blue')"
      ],
      "execution_count": 0,
      "outputs": [
        {
          "output_type": "execute_result",
          "data": {
            "text/plain": [
              "<matplotlib.collections.PathCollection at 0x7f2ebb374668>"
            ]
          },
          "metadata": {
            "tags": []
          },
          "execution_count": 9
        },
        {
          "output_type": "display_data",
          "data": {
            "image/png": "[encoded data removed]",
            "text/plain": [
              "<Figure size 432x288 with 1 Axes>"
            ]
          },
          "metadata": {
            "tags": [],
            "needs_background": "light"
          }
        }
      ]
    },
    {
      "cell_type": "code",
      "metadata": {
        "id": "LaoiETZatihi",
        "colab_type": "code",
        "outputId": "5a4fa961-ea11-4846-8dbf-7e4079d1adf2",
        "colab": {
          "base_uri": "https://localhost:8080/",
          "height": 34
        }
      },
      "source": [
        "print('Splitting the data into Train and Test')\n",
        "X_train, X_test, y_train, y_test = train_test_split(X,y,random_state=0)"
      ],
      "execution_count": 0,
      "outputs": [
        {
          "output_type": "stream",
          "text": [
            "Splitting the data into Train and Test\n"
          ],
          "name": "stdout"
        }
      ]
    },
    {
      "cell_type": "code",
      "metadata": {
        "id": "CAA2UqadtkVL",
        "colab_type": "code",
        "outputId": "b9a1db3f-b36c-448a-99f8-c46ab0613605",
        "colab": {
          "base_uri": "https://localhost:8080/",
          "height": 295
        }
      },
      "source": [
        "plt.scatter(X_train,y_train, color='blue')"
      ],
      "execution_count": 0,
      "outputs": [
        {
          "output_type": "execute_result",
          "data": {
            "text/plain": [
              "<matplotlib.collections.PathCollection at 0x7f2eb8659860>"
            ]
          },
          "metadata": {
            "tags": []
          },
          "execution_count": 11
        },
        {
          "output_type": "display_data",
          "data": {
            "image/png": "[encoded data removed]",
            "text/plain": [
              "<Figure size 432x288 with 1 Axes>"
            ]
          },
          "metadata": {
            "tags": [],
            "needs_background": "light"
          }
        }
      ]
    },
    {
      "cell_type": "code",
      "metadata": {
        "id": "0TBFn3wBtv_V",
        "colab_type": "code",
        "outputId": "565b0250-6fe4-49c5-8c1e-adf513c50f39",
        "colab": {
          "base_uri": "https://localhost:8080/",
          "height": 295
        }
      },
      "source": [
        "plt.scatter(X_test,y_test, color='blue')"
      ],
      "execution_count": 0,
      "outputs": [
        {
          "output_type": "execute_result",
          "data": {
            "text/plain": [
              "<matplotlib.collections.PathCollection at 0x7f2eb85c85f8>"
            ]
          },
          "metadata": {
            "tags": []
          },
          "execution_count": 12
        },
        {
          "output_type": "display_data",
          "data": {
            "image/png": "[encoded data removed]",
            "text/plain": [
              "<Figure size 432x288 with 1 Axes>"
            ]
          },
          "metadata": {
            "tags": [],
            "needs_background": "light"
          }
        }
      ]
    },
    {
      "cell_type": "code",
      "metadata": {
        "id": "iWLjuXfct3zV",
        "colab_type": "code",
        "outputId": "cd7327d9-33b5-4ef1-94a9-280aea3606db",
        "colab": {
          "base_uri": "https://localhost:8080/",
          "height": 50
        }
      },
      "source": [
        "print('Training the model using X_train, y_train')\n",
        "lr = LinearRegression()\n",
        "\n",
        "#print(X_train)\n",
        "#print(X_train.values.reshape(-1,1))\n",
        "lr.fit(X_train.values.reshape(-1,1),y_train)"
      ],
      "execution_count": 0,
      "outputs": [
        {
          "output_type": "stream",
          "text": [
            "Training the model using X_train, y_train\n"
          ],
          "name": "stdout"
        },
        {
          "output_type": "execute_result",
          "data": {
            "text/plain": [
              "LinearRegression(copy_X=True, fit_intercept=True, n_jobs=None, normalize=False)"
            ]
          },
          "metadata": {
            "tags": []
          },
          "execution_count": 13
        }
      ]
    },
    {
      "cell_type": "code",
      "metadata": {
        "id": "AXIjSOsUt50-",
        "colab_type": "code",
        "outputId": "dcf4cd38-f0c5-44f6-d735-d351b7aec227",
        "colab": {
          "base_uri": "https://localhost:8080/",
          "height": 34
        }
      },
      "source": [
        "print('Predicting using the trained model - X_test')\n",
        "y_pred=lr.predict(X_test.values.reshape(-1,1))"
      ],
      "execution_count": 0,
      "outputs": [
        {
          "output_type": "stream",
          "text": [
            "Predicting using the trained model - X_test\n"
          ],
          "name": "stdout"
        }
      ]
    },
    {
      "cell_type": "code",
      "metadata": {
        "id": "s5cDoJgduAFi",
        "colab_type": "code",
        "outputId": "3b763651-98d3-4223-a547-46187622e684",
        "colab": {
          "base_uri": "https://localhost:8080/",
          "height": 235
        }
      },
      "source": [
        "print(y_test) #Test data - actual data\n",
        "print(y_pred) #Model predicted dataset"
      ],
      "execution_count": 0,
      "outputs": [
        {
          "output_type": "stream",
          "text": [
            "1398    0.235252\n",
            "4773    2.327880\n",
            "2243    0.803234\n",
            "1139    2.189050\n",
            "1203    0.120225\n",
            "          ...   \n",
            "5103    1.123750\n",
            "1274    0.609511\n",
            "1250    1.059850\n",
            "3270    2.122260\n",
            "3079    2.566570\n",
            "Name: s, Length: 1303, dtype: float64\n",
            "[0.22620936 2.28530709 0.80775917 ... 1.09112106 2.12843187 2.51740457]\n"
          ],
          "name": "stdout"
        }
      ]
    },
    {
      "cell_type": "code",
      "metadata": {
        "id": "SkS-OHHduH_Y",
        "colab_type": "code",
        "outputId": "8fd737e8-b907-4a11-f00f-70571c6f2ba4",
        "colab": {
          "base_uri": "https://localhost:8080/",
          "height": 278
        }
      },
      "source": [
        "plt.scatter(X_train,y_train, color='blue')\n",
        "plt.scatter(X_test,y_pred,color='red')\n",
        "\n",
        "plt.xticks()\n",
        "plt.yticks()\n",
        "plt.show()"
      ],
      "execution_count": 0,
      "outputs": [
        {
          "output_type": "display_data",
          "data": {
            "image/png": "[encoded data removed]",
            "text/plain": [
              "<Figure size 432x288 with 1 Axes>"
            ]
          },
          "metadata": {
            "tags": [],
            "needs_background": "light"
          }
        }
      ]
    },
    {
      "cell_type": "code",
      "metadata": {
        "id": "WKOsotB2uZCJ",
        "colab_type": "code",
        "outputId": "38246ee9-232c-41eb-fab5-fc3f194d3386",
        "colab": {
          "base_uri": "https://localhost:8080/",
          "height": 84
        }
      },
      "source": [
        "print('Finding intercept & coeff')\n",
        "print('Intercept', lr.intercept_)\n",
        "print('Coefficient', lr.coef_)\n",
        "print(lr.coef_,'x +',lr.intercept_)"
      ],
      "execution_count": 0,
      "outputs": [
        {
          "output_type": "stream",
          "text": [
            "Finding intercept & coeff\n",
            "Intercept -0.05466102301130382\n",
            "Coefficient [2.84029072e-07]\n",
            "[2.84029072e-07] x + -0.05466102301130382\n"
          ],
          "name": "stdout"
        }
      ]
    },
    {
      "cell_type": "code",
      "metadata": {
        "id": "qfP0jXd8uiYj",
        "colab_type": "code",
        "outputId": "f0ec5b52-8e39-4153-dbc8-de2b54501224",
        "colab": {
          "base_uri": "https://localhost:8080/",
          "height": 67
        }
      },
      "source": [
        "from sklearn.metrics import mean_squared_error, r2_score\n",
        "# model evaluation\n",
        "rmse = mean_squared_error(y_test, y_pred)\n",
        "r2 = r2_score(y_test, y_pred)\n",
        "\n",
        "print('Finding RMSE & R2 Score')\n",
        "print('Root Mean Square Error', rmse)\n",
        "print('R2 Score', r2)\n"
      ],
      "execution_count": 0,
      "outputs": [
        {
          "output_type": "stream",
          "text": [
            "Finding RMSE & R2 Score\n",
            "Root Mean Square Error 0.002089935327379474\n",
            "R2 Score 0.9969940892861041\n"
          ],
          "name": "stdout"
        }
      ]
    }
  ]
}